{
 "cells": [
  {
   "cell_type": "markdown",
   "id": "ac599844-7b5c-4944-8509-7072e02e1bb7",
   "metadata": {},
   "source": [
    "# Week 1: Basic data leaks (Video part 26)\n",
    "\n",
    "- Data leakage: unexpected information in the data that allows us to make unrealistically good predictions.\n",
    "- Directly or indirectly adding ground truth into the test data.\n",
    "- Makes model unusable in the real world.\n",
    "\n",
    "\n",
    "#### Goals:\n",
    "- Leakage types and examples\n",
    "- Competition specific: leaderboard probing\n",
    "- Concrete walkthroughs\n",
    "\n",
    "\n",
    "### Leaks in time series\n",
    "- Future peaking - in real life we don't have information from future.\n",
    "- In competition: check for train/public/private splits - if any of the features are not split based on time, then you've found data leaks.\n",
    "- Even when features are split by time, they may still contain information about the future\n",
    "\n",
    "### Leaks in meta data\n",
    "- Imagine classic cats vs dogs prediction, what if all of cats images were taken before dogs, these information will be present in the meta data. Because of this, a good practise is to erase the meta data, and maybe also resize the pictures, change creation data etc.\n",
    "\n",
    "### Leaks in ID\n",
    "- Sometimes ID may contain traces of information connected to target variable.\n",
    "\n",
    "### Row order\n",
    "- Data may be shuffled by target variable.\n",
    "- In one competition, rows next to each other usually have the same label."
   ]
  },
  {
   "cell_type": "markdown",
   "id": "95484b14-6d6b-496a-92c8-a6d493321b29",
   "metadata": {},
   "source": [
    "# What I learnt:\n",
    "- Data leaks can come from unexpected places eg:\n",
    "    - Meta data: eg image prediction task and all images for one class is taken before another class."
   ]
  }
 ],
 "metadata": {
  "kernelspec": {
   "display_name": "Python 3.10 (tf-lgbm-st)",
   "language": "python",
   "name": "tf-lgbm-st"
  },
  "language_info": {
   "codemirror_mode": {
    "name": "ipython",
    "version": 3
   },
   "file_extension": ".py",
   "mimetype": "text/x-python",
   "name": "python",
   "nbconvert_exporter": "python",
   "pygments_lexer": "ipython3",
   "version": "3.10.10"
  }
 },
 "nbformat": 4,
 "nbformat_minor": 5
}
